{
 "cells": [
  {
   "cell_type": "code",
   "execution_count": null,
   "metadata": {},
   "outputs": [],
   "source": [
    "# The Central Index Key (CIK) is used on the SEC's computer systems to identify corporations and individual people \n",
    "# who have filed disclosure with the SEC."
   ]
  },
  {
   "cell_type": "code",
   "execution_count": 11,
   "metadata": {},
   "outputs": [],
   "source": [
    "# Requirements\n",
    "import pandas as pd\n",
    "import csv\n",
    "import requests\n",
    "import json\n",
    "import time\n",
    "import os\n",
    "\n",
    "folder_name = 'Data'\n",
    "os.makedirs(f'{folder_name}',exist_ok=True)\n",
    "headers = {'User-Agent': 'Temp Company LLC tempcompanyllc@gmail.com'}"
   ]
  },
  {
   "cell_type": "code",
   "execution_count": 3,
   "metadata": {},
   "outputs": [],
   "source": [
    "# Get Recent Filings by providing CIK\n",
    "\n",
    "def main(cik):\n",
    "    url = f'https://data.sec.gov/submissions/CIK{cik}.json'\n",
    "    r = requests.get(url, headers=headers)\n",
    "    df = pd.DataFrame.from_dict(r.json()['filings']['recent'])\n",
    "    df.to_csv(f'{folder_name}/{cik}-RecentFilings.csv', index=False)\n",
    "\n",
    "main('0001018724')"
   ]
  },
  {
   "cell_type": "code",
   "execution_count": 4,
   "metadata": {},
   "outputs": [],
   "source": [
    "# Get Recent Filings by provindg a list of CIKs\n",
    "\n",
    "pd.read_csv(f'{folder_name}/ListofCiks.csv', dtype='string')\n",
    "\n",
    "def main(filename):\n",
    "    listofciks = pd.read_csv(f'{folder_name}/{filename}', dtype='string')\n",
    "\n",
    "    start_time = time.time()\n",
    "    for cik in listofciks['CIK']:\n",
    "        name = listofciks[listofciks['CIK'] == cik]['Name'].iloc[0].replace('/','')\n",
    "        url = f'https://data.sec.gov/submissions/CIK{cik}.json'\n",
    "        r = requests.get(url, headers=headers)\n",
    "        df = pd.DataFrame.from_dict(r.json()['filings']['recent'])\n",
    "        df.to_csv(f'{folder_name}/{name} - RecentFilings.csv', index=False)\n",
    "\n",
    "        end_time = time.time()\n",
    "        if end_time - start_time < 1:\n",
    "            time.sleep(0.1)\n",
    "        else:\n",
    "            pass\n",
    "\n",
    "main('ListofCIKs.csv')"
   ]
  },
  {
   "cell_type": "code",
   "execution_count": 12,
   "metadata": {},
   "outputs": [],
   "source": [
    "# Get Recent Filings for all Companies with a Ticker Symbol\n",
    "\n",
    "def tickers():\n",
    "    url = 'https://www.sec.gov/files/company_tickers.json'\n",
    "    r = requests.get(url=url, headers=headers)\n",
    "    data = r.json()\n",
    "    df = pd.DataFrame(data)\n",
    "    df = df.T\n",
    "    df.to_csv(f'{folder_name}/CompanyTickers.csv', index=False)\n",
    "\n",
    "tickers()\n",
    "\n",
    "def main():\n",
    "    CompanyTickers = pd.read_csv(f'{folder_name}/CompanyTickers.csv', dtype='string')\n",
    "\n",
    "    start_time = time.time()\n",
    "    for cik in CompanyTickers['cik_str']:\n",
    "        name = CompanyTickers[CompanyTickers['cik_str'] == cik]['title'].iloc[0].replace('/','')\n",
    "\n",
    "        if len(cik) < 10:\n",
    "                add_zeros = 10 - len(cik)\n",
    "                cik = add_zeros * \"0\" + cik\n",
    "        else:\n",
    "            pass\n",
    "        \n",
    "        url = f'https://data.sec.gov/submissions/CIK{cik}.json'\n",
    "        r = requests.get(url, headers=headers)\n",
    "        df = pd.DataFrame.from_dict(r.json()['filings']['recent'])\n",
    "        df.to_csv(f'{folder_name}/{name} - RecentFilings.csv', index=False)\n",
    "\n",
    "        end_time = time.time()\n",
    "        if end_time - start_time < 1:\n",
    "            time.sleep(0.1)\n",
    "        else:\n",
    "            pass\n",
    "\n",
    "main()"
   ]
  }
 ],
 "metadata": {
  "kernelspec": {
   "display_name": "EDGAR",
   "language": "python",
   "name": "python3"
  },
  "language_info": {
   "codemirror_mode": {
    "name": "ipython",
    "version": 3
   },
   "file_extension": ".py",
   "mimetype": "text/x-python",
   "name": "python",
   "nbconvert_exporter": "python",
   "pygments_lexer": "ipython3",
   "version": "3.9.0"
  }
 },
 "nbformat": 4,
 "nbformat_minor": 2
}
